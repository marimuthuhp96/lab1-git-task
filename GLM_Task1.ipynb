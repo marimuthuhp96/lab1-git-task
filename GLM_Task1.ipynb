{
  "nbformat": 4,
  "nbformat_minor": 0,
  "metadata": {
    "colab": {
      "provenance": [],
      "authorship_tag": "ABX9TyOSUDD0qYKm69KwNNfyO9bO",
      "include_colab_link": true
    },
    "kernelspec": {
      "name": "python3",
      "display_name": "Python 3"
    },
    "language_info": {
      "name": "python"
    }
  },
  "cells": [
    {
      "cell_type": "markdown",
      "metadata": {
        "id": "view-in-github",
        "colab_type": "text"
      },
      "source": [
        "<a href=\"https://colab.research.google.com/github/marimuthuhp96/lab1-git-task/blob/main/GLM_Task1.ipynb\" target=\"_parent\"><img src=\"https://colab.research.google.com/assets/colab-badge.svg\" alt=\"Open In Colab\"/></a>"
      ]
    },
    {
      "cell_type": "code",
      "execution_count": null,
      "metadata": {
        "colab": {
          "base_uri": "https://localhost:8080/"
        },
        "id": "a3qu0Id883Gg",
        "outputId": "6d9a9e7a-d421-4b44-f6ef-5b5e20eda6c6"
      },
      "outputs": [
        {
          "output_type": "stream",
          "name": "stdout",
          "text": [
            "Enter hours worked in Week 1: 60\n",
            "Week 1 pay: ₹14400\n",
            "Enter hours worked in Week 2: 60\n",
            "Week 2 pay: ₹14400\n",
            "Enter hours worked in Week 3: 60\n",
            "Week 3 pay: ₹14400\n",
            "Enter hours worked in Week 4: 60\n",
            "Week 4 pay: ₹14400\n",
            "\n",
            "Monthly Income: ₹ 57600\n",
            "Annual Income: ₹ 172800\n"
          ]
        }
      ],
      "source": [
        "#Ex. 1: Conditional Statements and Looping\n",
        "#1 Income of employee: Let’s assume A works as an hourly paid employee, and he is paid 250/per hour.\n",
        "#If he worked for 56 hours then he will get the overtime pay as 100 for the extra hours he worked.\n",
        "#Calculate the monthly and annual income of the employee.\n",
        "\n",
        "#Initialization\n",
        "pay_per_hour = 250\n",
        "extra_pay = 100\n",
        "regular_hours = 56\n",
        "\n",
        "monthly_income = 0\n",
        "\n",
        "# Looping and Conditional statements\n",
        "for week in range(1, 5):\n",
        "    hours = int(input(f\"Enter hours worked in Week {week}: \"))\n",
        "\n",
        "    if hours <= regular_hours:\n",
        "        weekly_pay = hours * pay_per_hour\n",
        "    else:\n",
        "        overtime = hours - regular_hours\n",
        "        weekly_pay = (regular_hours * pay_per_hour) + (overtime * extra_pay)\n",
        "\n",
        "    print(f\"Week {week} pay: ₹{weekly_pay}\")\n",
        "    monthly_income += weekly_pay  # Add to total\n",
        "\n",
        "# Annual income\n",
        "annual_income = monthly_income * 3  # (12 months = 4 weeks * 3)\n",
        "#Both Monthly & Annual Income\n",
        "print(\"\\nMonthly Income: ₹\", monthly_income)\n",
        "print(\"Annual Income: ₹\", annual_income)\n"
      ]
    },
    {
      "cell_type": "code",
      "source": [
        "#2 Electricity Bill: Calculate the electricity bill for household according to the given condition.\n",
        "# Commercial = Double times of Household costs.\n",
        "#Household:\n",
        "#0 to 100 Units = Rs 0.50/unit\n",
        "#101 to 200 Units = Rs 0.75/unit\n",
        "#201 to 300 Units = Rs 1.20/unit\n",
        "#Above 300 Units = Rs 1.50/unit\n",
        "\n",
        "\n",
        "# Looping for multiple customers\n",
        "for i in range(1, 4):\n",
        "    print(f\"\\nCustomer {i}\")\n",
        "    units = int(input(\"Enter electricity units consumed: \"))\n",
        "    user_type = input(\"Enter type of user (household/commercial): \").lower()\n",
        "\n",
        "    # Calculation\n",
        "    if units <= 100:\n",
        "        cost = units * 0.50\n",
        "    elif units <= 200:\n",
        "        cost = (100 * 0.50) + ((units - 100) * 0.75)\n",
        "    elif units <= 300:\n",
        "        cost = (100 * 0.50) + (100 * 0.75) + ((units - 200) * 1.20)\n",
        "    else:\n",
        "        cost = (100 * 0.50) + (100 * 0.75) + (100 * 1.20) + ((units - 300) * 1.50)\n",
        "\n",
        "    # Commercial users pay double\n",
        "    if user_type == \"commercial\":\n",
        "        cost *= 2\n",
        "\n",
        "    print(f\"Total {user_type.capitalize()} Electricity Bill: ₹{cost:.2f}\")\n"
      ],
      "metadata": {
        "colab": {
          "base_uri": "https://localhost:8080/"
        },
        "id": "B5Mxcv1i-IJM",
        "outputId": "d7eb353d-f77a-4be1-ef19-eb64335cd845"
      },
      "execution_count": null,
      "outputs": [
        {
          "output_type": "stream",
          "name": "stdout",
          "text": [
            "\n",
            "Customer 1\n",
            "Enter electricity units consumed: 500\n",
            "Enter type of user (household/commercial): household\n",
            "Total Household Electricity Bill: ₹545.00\n",
            "\n",
            "Customer 2\n",
            "Enter electricity units consumed: 300\n",
            "Enter type of user (household/commercial): commercial\n",
            "Total Commercial Electricity Bill: ₹490.00\n",
            "\n",
            "Customer 3\n",
            "Enter electricity units consumed: 1000\n",
            "Enter type of user (household/commercial): housecold\n",
            "Total Housecold Electricity Bill: ₹1295.00\n"
          ]
        }
      ]
    },
    {
      "cell_type": "code",
      "source": [
        "# Base class for quiz\n",
        "class Quiz:\n",
        "    def __init__(self):\n",
        "        self.questions = {\n",
        "            \"1. Who is known as the 'God of Cricket'?\": {\n",
        "                \"options\": [\"A. Virat Kohli\", \"B. Sachin Tendulkar\", \"C. M.S. Dhoni\", \"D. Kapil Dev\"],\n",
        "                \"answer\": \"B\"\n",
        "            },\n",
        "            \"2. What is the maximum number of players allowed on a cricket team?\": {\n",
        "                \"options\": [\"A. 10\", \"B. 12\", \"C. 11\", \"D. 9\"],\n",
        "                \"answer\": \"C\"\n",
        "            },\n",
        "            \"3. Which country won the 2011 ICC Cricket World Cup?\": {\n",
        "                \"options\": [\"A. Australia\", \"B. India\", \"C. Pakistan\", \"D. Sri Lanka\"],\n",
        "                \"answer\": \"B\"\n",
        "            },\n",
        "            \"4. What does LBW stand for in cricket?\": {\n",
        "                \"options\": [\"A. Leg Behind Wicket\", \"B. Long Ball Wicket\", \"C. Leg Before Wicket\", \"D. Line Bat Wide\"],\n",
        "                \"answer\": \"C\"\n",
        "            },\n",
        "            \"5. Who has scored the highest individual score in ODI cricket?\": {\n",
        "                \"options\": [\"A. Rohit Sharma\", \"B. Chris Gayle\", \"C. Virender Sehwag\", \"D. Martin Guptill\"],\n",
        "                \"answer\": \"A\"\n",
        "            }\n",
        "        }\n",
        "        self.user_score = 0\n",
        "\n",
        "    def check_answer(self, correct_answer, user_answer):\n",
        "        if user_answer.strip().upper() == correct_answer.strip().upper():\n",
        "            self.user_score += 2\n",
        "            return True\n",
        "        else:\n",
        "            self.user_score -= 1\n",
        "            return False\n",
        "\n",
        "\n",
        "# Inherited class for user interaction\n",
        "class CricketQuiz(Quiz):\n",
        "    def start_quiz(self):\n",
        "        print(\"=== Welcome to the Cricket Quiz ===\")\n",
        "        print(\"There are 5 questions. Each correct answer = +2, wrong answer = -1\")\n",
        "        print(\"Maximum Marks: 10\\n\")\n",
        "\n",
        "        for q, data in self.questions.items():\n",
        "            print(q)\n",
        "            for option in data[\"options\"]:\n",
        "                print(option)\n",
        "            user_ans = input(\"Your Answer (A/B/C/D): \")\n",
        "            if self.check_answer(data[\"answer\"], user_ans):\n",
        "                print(\"Correct!\\n\")\n",
        "            else:\n",
        "                print(f\"Wrong! Correct answer: {data['answer']}\\n\")\n",
        "\n",
        "        print(f\"Your Final Score is: {self.user_score}/10\")\n",
        "\n",
        "\n",
        "# Run the quiz\n",
        "quiz = CricketQuiz()\n",
        "quiz.start_quiz()\n"
      ],
      "metadata": {
        "colab": {
          "base_uri": "https://localhost:8080/"
        },
        "id": "grV8EIvJHLGI",
        "outputId": "1090a721-f654-4f72-fe0c-535c970ff323"
      },
      "execution_count": 3,
      "outputs": [
        {
          "output_type": "stream",
          "name": "stdout",
          "text": [
            "=== Welcome to the Cricket Quiz ===\n",
            "There are 5 questions. Each correct answer = +2, wrong answer = -1\n",
            "Maximum Marks: 10\n",
            "\n",
            "1. Who is known as the 'God of Cricket'?\n",
            "A. Virat Kohli\n",
            "B. Sachin Tendulkar\n",
            "C. M.S. Dhoni\n",
            "D. Kapil Dev\n",
            "Your Answer (A/B/C/D): B\n",
            "Correct!\n",
            "\n",
            "2. What is the maximum number of players allowed on a cricket team?\n",
            "A. 10\n",
            "B. 12\n",
            "C. 11\n",
            "D. 9\n",
            "Your Answer (A/B/C/D): C\n",
            "Correct!\n",
            "\n",
            "3. Which country won the 2011 ICC Cricket World Cup?\n",
            "A. Australia\n",
            "B. India\n",
            "C. Pakistan\n",
            "D. Sri Lanka\n",
            "Your Answer (A/B/C/D): A\n",
            "Wrong! Correct answer: B\n",
            "\n",
            "4. What does LBW stand for in cricket?\n",
            "A. Leg Behind Wicket\n",
            "B. Long Ball Wicket\n",
            "C. Leg Before Wicket\n",
            "D. Line Bat Wide\n",
            "Your Answer (A/B/C/D): C\n",
            "Correct!\n",
            "\n",
            "5. Who has scored the highest individual score in ODI cricket?\n",
            "A. Rohit Sharma\n",
            "B. Chris Gayle\n",
            "C. Virender Sehwag\n",
            "D. Martin Guptill\n",
            "Your Answer (A/B/C/D): A\n",
            "Correct!\n",
            "\n",
            "Your Final Score is: 7/10\n"
          ]
        }
      ]
    },
    {
      "cell_type": "code",
      "source": [
        "#2 Calculate the Gross Salary and Net Salary of an employee for following allowance & deduction Using Inheritance.\n",
        "#Get Basic Salary of Employee,\n",
        "#DA = 20% of Basic, HRA = 10% of Basic, PF = 12% of Basic, TA = 7.50% of Basic.\n",
        "#EMI = 2% of Basic\n",
        "\n",
        "\n",
        "# Base class\n",
        "class Employee:\n",
        "    def __init__(self, name, basic_salary):\n",
        "        self.name = name\n",
        "        self.basic = basic_salary\n",
        "\n",
        "    def calculate_allowances(self):\n",
        "        self.da = 0.20 * self.basic\n",
        "        self.hra = 0.10 * self.basic\n",
        "        self.ta = 0.075 * self.basic\n",
        "        self.gross_salary = self.basic + self.da + self.hra + self.ta\n",
        "\n",
        "# Derived class\n",
        "class Salary(Employee):\n",
        "    def calculate_net_salary(self):\n",
        "        self.pf = 0.12 * self.basic\n",
        "        self.emi = 0.02 * self.basic\n",
        "        self.net_salary = self.gross_salary - (self.pf + self.emi)\n",
        "\n",
        "    def display_salary_details(self):\n",
        "        print(f\"\\nEmployee Name: {self.name}\")\n",
        "        print(f\"Basic Salary: ₹{self.basic:.2f}\")\n",
        "        print(f\"Gross Salary: ₹{self.gross_salary:.2f}\")\n",
        "        print(f\"Net Salary: ₹{self.net_salary:.2f}\")\n",
        "        print(\"\\nBreakdown:\")\n",
        "        print(f\"  DA (20%): ₹{self.da:.2f}\")\n",
        "        print(f\"  HRA (10%): ₹{self.hra:.2f}\")\n",
        "        print(f\"  TA (7.5%): ₹{self.ta:.2f}\")\n",
        "        print(f\"  PF (12%): ₹{self.pf:.2f}\")\n",
        "        print(f\"  EMI (2%): ₹{self.emi:.2f}\")\n",
        "\n",
        "# Get input from user\n",
        "emp_name = input(\"Enter Employee Name: \")\n",
        "basic = float(input(\"Enter Basic Salary: ₹\"))\n",
        "\n",
        "# Create object and calculate\n",
        "emp = Salary(emp_name, basic)\n",
        "emp.calculate_allowances()\n",
        "emp.calculate_net_salary()\n",
        "emp.display_salary_details()\n"
      ],
      "metadata": {
        "colab": {
          "base_uri": "https://localhost:8080/"
        },
        "id": "nDZfTmt0H4tM",
        "outputId": "90770f9b-e6e2-47a4-ed5d-b7335da1cdcf"
      },
      "execution_count": null,
      "outputs": [
        {
          "output_type": "stream",
          "name": "stdout",
          "text": [
            "Enter Employee Name: Harry\n",
            "Enter Basic Salary: ₹70000\n",
            "\n",
            "Employee Name: Harry\n",
            "Basic Salary: ₹70000.00\n",
            "Gross Salary: ₹96250.00\n",
            "Net Salary: ₹86450.00\n",
            "\n",
            "Breakdown:\n",
            "  DA (20%): ₹14000.00\n",
            "  HRA (10%): ₹7000.00\n",
            "  TA (7.5%): ₹5250.00\n",
            "  PF (12%): ₹8400.00\n",
            "  EMI (2%): ₹1400.00\n"
          ]
        }
      ]
    },
    {
      "cell_type": "code",
      "source": [
        "# Step 1: Install GitPython (used for git operations in Python)\n",
        "!pip install gitpython\n",
        "\n",
        "# Step 2: Download your Python script from GitHub\n",
        "!wget https://raw.githubusercontent.com/marimuthuhp96/lab1-git-demo/main/ex3_git_config.py\n",
        "\n",
        "# Step 3: Run the downloaded script\n",
        "!python ex3_git_config.py\n"
      ],
      "metadata": {
        "colab": {
          "base_uri": "https://localhost:8080/"
        },
        "id": "QmZl1nLElouQ",
        "outputId": "d3f16025-2a12-4f74-c1a8-7caa2782135a"
      },
      "execution_count": null,
      "outputs": [
        {
          "output_type": "stream",
          "name": "stdout",
          "text": [
            "Requirement already satisfied: gitpython in /usr/local/lib/python3.11/dist-packages (3.1.44)\n",
            "Requirement already satisfied: gitdb<5,>=4.0.1 in /usr/local/lib/python3.11/dist-packages (from gitpython) (4.0.12)\n",
            "Requirement already satisfied: smmap<6,>=3.0.1 in /usr/local/lib/python3.11/dist-packages (from gitdb<5,>=4.0.1->gitpython) (5.0.2)\n",
            "--2025-07-11 13:02:09--  https://raw.githubusercontent.com/marimuthuhp96/lab1-git-demo/main/ex3_git_config.py\n",
            "Resolving raw.githubusercontent.com (raw.githubusercontent.com)... 185.199.108.133, 185.199.109.133, 185.199.110.133, ...\n",
            "Connecting to raw.githubusercontent.com (raw.githubusercontent.com)|185.199.108.133|:443... connected.\n",
            "HTTP request sent, awaiting response... 200 OK\n",
            "Length: 1006 [text/plain]\n",
            "Saving to: ‘ex3_git_config.py’\n",
            "\n",
            "ex3_git_config.py   100%[===================>]    1006  --.-KB/s    in 0s      \n",
            "\n",
            "2025-07-11 13:02:09 (41.5 MB/s) - ‘ex3_git_config.py’ saved [1006/1006]\n",
            "\n",
            "On branch master\n",
            "nothing to commit, working tree clean\n",
            "diff --git a/README.txt b/README.txt\n",
            "index c39619d..024de15 100644\n",
            "--- a/README.txt\n",
            "+++ b/README.txt\n",
            "@@ -1 +1,2 @@\n",
            " This is a README file\n",
            "+Extra line added\n",
            "Second commit\n",
            "First commit\n"
          ]
        }
      ]
    }
  ]
}